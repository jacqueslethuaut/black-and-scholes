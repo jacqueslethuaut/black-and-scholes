{
 "cells": [
  {
   "attachments": {},
   "cell_type": "markdown",
   "metadata": {},
   "source": [
    "## The Black and Sholes equation\n",
    "\n",
    "C is the Call \\\n",
    "P is the Put\n",
    "\n",
    "$$\n",
    "\\begin{array}{|c|c|}\n",
    "\\hline\n",
    "\\\\\n",
    "C = S_0 N(d_1) - X e^{-rt} N(d_2) \\\\\n",
    "\\\\\n",
    "P = X e^{-rt} N(-d_2) - S_0 N(-d_1) \\\\\n",
    "\\\\\n",
    "\\hline\n",
    "\\\\\n",
    "d_1 = \\frac{\\ln \\left( \\frac{S_0}{X} \\right) + \\left( r + \\frac{\\sigma^2}{2} \\right)t }{\\sigma \\sqrt{t}} \\\\\n",
    "\\\\\n",
    "d_2 = d_1 - \\sigma \\sqrt{t} \\\\\n",
    "\\\\\n",
    "\\hline\n",
    "\\end{array}\n",
    "$$\n",
    "$\n",
    "N() \\text{ denotes the cumulative distribution function of the standard normal distribution,}\n",
    "\\\\ \n",
    "S_0 \\text{ is the initial price of the underlying asset,}\n",
    "\\\\ \n",
    "X \\text{ is the exercise price of the option,}\n",
    "\\\\\n",
    "r \\text{ is the risk-free interest rate,} \n",
    "\\\\ \n",
    "t \\text{ is the time until the expiration of the option,}\n",
    "\\\\  \n",
    "\\sigma \\text{ is the volatility of the price of the underlying asset.}\n",
    "$"
   ]
  },
  {
   "attachments": {},
   "cell_type": "markdown",
   "metadata": {},
   "source": [
    "$$ N(x)=\\Phi(x) = \\frac{1}{\\sqrt{2\\pi}} \\int_{-\\infty}^{x} e^{-\\frac{t^2}{2}} dt$$"
   ]
  },
  {
   "cell_type": "code",
   "execution_count": 1,
   "metadata": {},
   "outputs": [
    {
     "name": "stdout",
     "output_type": "stream",
     "text": [
      "The price of the call is 5.03\n"
     ]
    }
   ],
   "source": [
    "import math\n",
    "import scipy.stats as si\n",
    "\n",
    "def black_scholes(S, K, T, r, sigma)->float:\n",
    "    \"\"\"\n",
    "    Input:\n",
    "        S: initial price of the underlying asset\n",
    "        K: option strike price\n",
    "        T: time until option expiration\n",
    "        r: risk-free interest rate\n",
    "        sigma: price volatility of the underlying asset\n",
    "    \n",
    "    return: \n",
    "        the call C\n",
    "    \"\"\"\n",
    "\n",
    "    d1 = (math.log(S / K) + (r + 0.5 * sigma ** 2) * T) / (sigma * math.sqrt(T))\n",
    "    d2 = d1 - sigma * math.sqrt(T)\n",
    "    \n",
    "    C = (S * si.norm.cdf(d1, 0.0, 1.0) - K * math.exp(-r * T) * si.norm.cdf(d2, 0.0, 1.0))\n",
    "    \n",
    "    return C\n",
    "\n",
    "S = 100\n",
    "K = 120\n",
    "T = 1\n",
    "r = 0.05\n",
    "sigma = 0.25\n",
    "\n",
    "call_price = black_scholes(S, K, T, r, sigma)\n",
    "\n",
    "print(f'The price of the call is {call_price:.2f}')\n"
   ]
  }
 ],
 "metadata": {
  "kernelspec": {
   "display_name": "Python 3",
   "language": "python",
   "name": "python3"
  },
  "language_info": {
   "codemirror_mode": {
    "name": "ipython",
    "version": 3
   },
   "file_extension": ".py",
   "mimetype": "text/x-python",
   "name": "python",
   "nbconvert_exporter": "python",
   "pygments_lexer": "ipython3",
   "version": "3.11.5"
  },
  "orig_nbformat": 4
 },
 "nbformat": 4,
 "nbformat_minor": 2
}
